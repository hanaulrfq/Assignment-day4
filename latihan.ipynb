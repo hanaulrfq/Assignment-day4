{
  "nbformat": 4,
  "nbformat_minor": 0,
  "metadata": {
    "colab": {
      "provenance": [],
      "authorship_tag": "ABX9TyPC3dratL4nQFQSqUj9x7St",
      "include_colab_link": true
    },
    "kernelspec": {
      "name": "python3",
      "display_name": "Python 3"
    },
    "language_info": {
      "name": "python"
    }
  },
  "cells": [
    {
      "cell_type": "markdown",
      "metadata": {
        "id": "view-in-github",
        "colab_type": "text"
      },
      "source": [
        "<a href=\"https://colab.research.google.com/github/hanaulrfq/Assignment-day4/blob/main/latihan.ipynb\" target=\"_parent\"><img src=\"https://colab.research.google.com/assets/colab-badge.svg\" alt=\"Open In Colab\"/></a>"
      ]
    },
    {
      "cell_type": "markdown",
      "source": [
        "Muhammad Hanaul Rofiq"
      ],
      "metadata": {
        "id": "gv_KjmSVgTT3"
      }
    },
    {
      "cell_type": "code",
      "execution_count": null,
      "metadata": {
        "id": "dKdfulLiWmsS"
      },
      "outputs": [],
      "source": [
        "print (\"Latihan Konversi Suhu celcius\")\n",
        "celc = float (input('Input suhu celsius: ')) # Menginput float untuk tipe data untuk objek numerik berupa bilangan desimal, baik positif atau negatif,\n",
        "\n",
        "fahr = (9/5 * celc) + 32 # Rumus mencari suhu fahrenheit\n",
        "kelv = celc + 273.15 # Rumus mencari suhu kelvin\n",
        "\n",
        "print(celc,'derajat Celsius =',fahr,'derajat Fahrenheit') # Memunculkan hasil nilai konversi celcius ke fahrenheit\n",
        "print(celc,'derajat Celsius =',kelv,'derajat Kelvin') # Memunculkan hasil nilai konversi celcius ke kelvin\n"
      ]
    },
    {
      "cell_type": "code",
      "source": [
        "print (\"Latihan Konversi Suhu Kelvin\")\n",
        "kelv = float (input('Input suhu kelv: ')) # Menginput float untuk tipe data untuk objek numerik berupa bilangan desimal, baik positif atau negatif,\n",
        "\n",
        "fahr = 9/5 * (kelv - 273) + 32 # Rumus mencari suhu fahrenheit\n",
        "celc = kelv - 273.15 # Rumus mencari suhu celcius\n",
        "\n",
        "print(kelv,'derajat kelvin =',fahr,'derajat Fahrenheit') # Memunculkan hasil nilai konversi kelvin ke fahrenheit\n",
        "print(kelv,'derajat kelvin =',celc,'derajat celcius')    # Memunculkan hasil nilai konversi kelvin ke celcius\n"
      ],
      "metadata": {
        "id": "4X_6_nb1YB0b"
      },
      "execution_count": null,
      "outputs": []
    },
    {
      "cell_type": "code",
      "source": [
        "print (\"Latihan Konversi Suhu fahrenheit\")\n",
        "fahr = float (input('Input suhu fahr: ')) # Menginput float untuk tipe data untuk objek numerik berupa bilangan desimal, baik positif atau negatif,\n",
        "\n",
        "celc = 5/9 * (fahr - 32)# Rumus mencari suhu celc\n",
        "kelv = 5/9 * (fahr - 32) + 273 # Rumus mencari suhu kelvin\n",
        "\n",
        "print(fahr,'derajat fahrenheit =',celc,'derajat celcius') # Memunculkan hasil nilai konversi fahrenheit ke celcius\n",
        "print(fahr,'derajat fahrenheit =',kelv,'derajat kelvin')    # Memunculkan hasil nilai konversi fahrenheit ke kelvin\n"
      ],
      "metadata": {
        "id": "o_BxPhjveOsS"
      },
      "execution_count": null,
      "outputs": []
    }
  ]
}